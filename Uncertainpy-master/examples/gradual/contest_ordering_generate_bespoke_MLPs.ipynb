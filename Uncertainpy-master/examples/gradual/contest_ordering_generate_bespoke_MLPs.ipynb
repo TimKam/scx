{
 "cells": [
  {
   "cell_type": "markdown",
   "source": [
    "### Generates bespoke MLP-like QBAFs"
   ],
   "metadata": {
    "collapsed": false
   }
  },
  {
   "cell_type": "code",
   "execution_count": 61,
   "outputs": [],
   "source": [
    "import random\n",
    "random.seed(1)\n",
    "import sys\n",
    "sys.path.append(\"../../src/\")"
   ],
   "metadata": {
    "collapsed": false
   }
  },
  {
   "cell_type": "code",
   "execution_count": 62,
   "outputs": [],
   "source": [
    "def generate_random_mlp_graph(layer_sizes, connection_prob):\n",
    "    \"\"\"\n",
    "    generate a random MLP-like QBAF structure, represented by DAG\n",
    "\n",
    "    parameter:\n",
    "    - connection_prob: The probability of inter-layer connections (1.0 = fully connected, 0.0 = no connections)\n",
    "\n",
    "    return:\n",
    "    - graph: MLP structure in adjacent list (DAG)\n",
    "    \"\"\"\n",
    "\n",
    "    graph = {}  # Store the DAG using an adjacency list\n",
    "    node_id = 0  # neuron ID\n",
    "    layer_nodes = []  # Record the neuron IDs in each layer\n",
    "\n",
    "    # Create neuron nodes\n",
    "    for size in layer_sizes:\n",
    "        layer = [node_id + i for i in range(size)]\n",
    "        layer_nodes.append(layer)\n",
    "        node_id += size\n",
    "\n",
    "    # Generate inter-layer connections\n",
    "    for i in range(len(layer_nodes) - 1):  # Layer-by-layer connection\n",
    "        for src in layer_nodes[i]:  # Current layer neurons\n",
    "            for dst in layer_nodes[i+1]:  # Next layer neurons\n",
    "                if random.uniform(0, 1) < connection_prob:\n",
    "                    graph.setdefault(src, set()).add(dst)\n",
    "\n",
    "    # if node not in graph, add empty set\n",
    "    for layer in layer_nodes:\n",
    "        for node in layer:\n",
    "            graph.setdefault(node, set())\n",
    "\n",
    "    return graph"
   ],
   "metadata": {
    "collapsed": false
   }
  },
  {
   "cell_type": "code",
   "execution_count": 63,
   "outputs": [],
   "source": [
    "def get_layer_nodes(layer_sizes, layer_index=None):\n",
    "    node_id = 0\n",
    "    for i, size in enumerate(layer_sizes):\n",
    "        if i == layer_index:\n",
    "            return [str(n) for n in range(node_id, node_id + size)]\n",
    "        node_id += size\n",
    "\n",
    "    raise ValueError(f\"Invalid layer_index {layer_index}: must be between 0 and {len(layer_sizes) - 1}\")"
   ],
   "metadata": {
    "collapsed": false
   }
  },
  {
   "cell_type": "code",
   "execution_count": 64,
   "outputs": [],
   "source": [
    "# generate a random MLP-QBAF and output to a file\n",
    "def generate_and_write_graph(filename, layer_sizes, connection_prob):\n",
    "    with open(filename, 'w') as f:\n",
    "        sys.stdout = f\n",
    "\n",
    "        # generate the node and edge of a graph\n",
    "        random_graph = generate_random_mlp_graph(layer_sizes, connection_prob)\n",
    "\n",
    "        L0 = get_layer_nodes(layer_sizes, len(layer_sizes)-1) # output layer\n",
    "        L1 = get_layer_nodes(layer_sizes, len(layer_sizes)-2) # last hidden layer\n",
    "        L2 = get_layer_nodes(layer_sizes, len(layer_sizes)-3)\n",
    "        L3 = get_layer_nodes(layer_sizes, len(layer_sizes)-4)\n",
    "        if len(layer_sizes)>=5:\n",
    "            L4 = get_layer_nodes(layer_sizes, len(layer_sizes)-5)\n",
    "            L4 = list(map(int, L4))\n",
    "        L0 = list(map(int, L0))\n",
    "        L1 = list(map(int, L1))\n",
    "        L2 = list(map(int, L2))\n",
    "        L3 = list(map(int, L3))\n",
    "\n",
    "        # generate base scores for arguments\n",
    "        for node, edges in random_graph.items():\n",
    "            # print(node)\n",
    "            if node in L1:\n",
    "                random_float = round(random.uniform(0.0, 0.1),2)\n",
    "            else:\n",
    "                random_float = round(random.uniform(0.0, 1.0),2)\n",
    "            print(f\"arg({node}, {random_float}).\")\n",
    "\n",
    "        # generate polarity for edges\n",
    "        for node, edges in random_graph.items():\n",
    "            for edge in edges:\n",
    "\n",
    "                if edge in L1:\n",
    "                    random_boolean = True\n",
    "                elif edge in L2:\n",
    "                    random_boolean = False\n",
    "                else:\n",
    "                    random_boolean = random.choice([True, False])\n",
    "                if random_boolean:\n",
    "                    print(f\"att({node}, {edge}).\")\n",
    "                else:\n",
    "                    print(f\"sup({node}, {edge}).\")\n",
    "\n",
    "    sys.stdout = sys.__stdout__"
   ],
   "metadata": {
    "collapsed": false
   }
  },
  {
   "cell_type": "code",
   "execution_count": 65,
   "outputs": [],
   "source": [
    "N = 100 # generate N QBAFs storing in N files\n",
    "connection_prob=1.0\n",
    "layer_sizes = [8,64,16,8,8]\n",
    "for i in range(N):\n",
    "    filename = f'../../bags/mlp_{i}.bag'\n",
    "    generate_and_write_graph(filename, layer_sizes, connection_prob)"
   ],
   "metadata": {
    "collapsed": false
   }
  }
 ],
 "metadata": {
  "kernelspec": {
   "display_name": "Python 3",
   "language": "python",
   "name": "python3"
  },
  "language_info": {
   "codemirror_mode": {
    "name": "ipython",
    "version": 2
   },
   "file_extension": ".py",
   "mimetype": "text/x-python",
   "name": "python",
   "nbconvert_exporter": "python",
   "pygments_lexer": "ipython2",
   "version": "2.7.6"
  }
 },
 "nbformat": 4,
 "nbformat_minor": 0
}
