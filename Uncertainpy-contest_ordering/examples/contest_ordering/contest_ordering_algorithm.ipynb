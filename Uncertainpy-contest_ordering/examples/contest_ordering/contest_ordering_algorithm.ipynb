{
 "cells": [
  {
   "cell_type": "markdown",
   "source": [
    "### Compute desired orderings"
   ],
   "metadata": {
    "collapsed": false
   }
  },
  {
   "cell_type": "code",
   "execution_count": 618,
   "outputs": [],
   "source": [
    "import random\n",
    "random.seed(1)\n",
    "import sys\n",
    "sys.path.append(\"../../src/\")\n",
    "import uncertainpy.gradual as grad\n",
    "import numpy as np\n",
    "from tqdm import tqdm\n",
    "import time\n",
    "from scipy.stats import kendalltau, spearmanr"
   ],
   "metadata": {
    "collapsed": false
   }
  },
  {
   "cell_type": "code",
   "execution_count": 619,
   "outputs": [],
   "source": [
    "# get args in a layer\n",
    "def get_layer_nodes(layer_sizes, layer_index=None):\n",
    "    node_id = 0\n",
    "    for i, size in enumerate(layer_sizes):\n",
    "        if i == layer_index:\n",
    "            return [str(n) for n in range(node_id, node_id + size)]\n",
    "        node_id += size\n",
    "\n",
    "    raise ValueError(f\"Invalid layer_index {layer_index}: must be between 0 and {len(layer_sizes) - 1}\")"
   ],
   "metadata": {
    "collapsed": false
   }
  },
  {
   "cell_type": "code",
   "execution_count": 620,
   "outputs": [],
   "source": [
    "# obtain input_args, hidden_args, output_args\n",
    "def get_layer_args(layer_sizes):\n",
    "    input_size = layer_sizes[0]\n",
    "    output_size = layer_sizes[-1]\n",
    "    total_neurons = sum(layer_sizes)\n",
    "\n",
    "    input_args = [str(i) for i in range(input_size)]\n",
    "\n",
    "    hidden_start = input_size\n",
    "    hidden_end = total_neurons - output_size\n",
    "    hidden_args = [str(i) for i in range(hidden_start, hidden_end)]\n",
    "\n",
    "    output_args = [str(i) for i in range(hidden_end, total_neurons)]\n",
    "\n",
    "    return input_args, hidden_args, output_args"
   ],
   "metadata": {
    "collapsed": false
   }
  },
  {
   "cell_type": "code",
   "execution_count": 621,
   "outputs": [],
   "source": [
    "def compute_loss(bag, preferred_order):\n",
    "    strengths = np.array([bag.arguments[name].strength for name in preferred_order])\n",
    "    i_idx, j_idx = np.triu_indices(len(strengths), k=1)\n",
    "    sigma_diff = strengths[j_idx] - strengths[i_idx]\n",
    "    return np.sum(np.maximum(0,sigma_diff))"
   ],
   "metadata": {
    "collapsed": false
   }
  },
  {
   "cell_type": "code",
   "execution_count": 622,
   "outputs": [],
   "source": [
    "# def compute_loss(bag, preferred_order):\n",
    "#     strengths = np.array([bag.arguments[name].strength for name in preferred_order])\n",
    "#     i_idx, j_idx = np.triu_indices(len(strengths), k=1)\n",
    "#     sigma_diff = strengths[j_idx] - strengths[i_idx]\n",
    "#     return np.sum(np.log1p(np.exp(sigma_diff)))"
   ],
   "metadata": {
    "collapsed": false
   }
  },
  {
   "cell_type": "code",
   "execution_count": 623,
   "outputs": [],
   "source": [
    "# compute gradient for the loss function\n",
    "def compute_gradient(h, bag, preferred_order):\n",
    "    gradient = {}\n",
    "    original_base_scores = {arg.name: arg.initial_weight for arg in bag.arguments.values()}\n",
    "\n",
    "    # original penalty\n",
    "    grad.algorithms.computeStrengthValues(bag, agg_f, inf_f)\n",
    "    penalty = compute_loss(bag, preferred_order)\n",
    "\n",
    "    for name, original_weight in original_base_scores.items():\n",
    "        # perturb current argument\n",
    "        for arg in bag.arguments.values():\n",
    "            if arg.name == name:\n",
    "                arg.reset_initial_weight(original_weight + h)\n",
    "            else:\n",
    "                arg.reset_initial_weight(original_base_scores[arg.name])\n",
    "\n",
    "        grad.algorithms.computeStrengthValues(bag, agg_f, inf_f)\n",
    "        new_penalty = compute_loss(bag, preferred_order)\n",
    "        gradient[name] = (new_penalty - penalty) / h\n",
    "\n",
    "    # restore all base scores\n",
    "    for arg in bag.arguments.values():\n",
    "        arg.reset_initial_weight(original_base_scores[arg.name])\n",
    "    grad.algorithms.computeStrengthValues(bag, agg_f, inf_f)\n",
    "\n",
    "    return gradient"
   ],
   "metadata": {
    "collapsed": false
   }
  },
  {
   "cell_type": "code",
   "execution_count": 624,
   "outputs": [],
   "source": [
    "# adam optimiser\n",
    "def adam_gradient(name, gradient, m, v, i):\n",
    "\n",
    "    grad = gradient[name]\n",
    "    # Adam optimiser parameters\n",
    "    learning_rate = 0.1  # Initial learning rate\n",
    "    beta1 = 0.85            # First-order moment decay rate\n",
    "    beta2 = 0.98          # Second-order moment decay rate\n",
    "    epsilon = 1e-8         # a small constant\n",
    "\n",
    "    # update first-order moment and second-order moment\n",
    "    m = beta1 * m + (1 - beta1) * grad\n",
    "    v = beta2 * v + (1 - beta2) * (grad ** 2)\n",
    "\n",
    "    # bias correction\n",
    "    m_hat = m / (1 - beta1 ** i)\n",
    "    v_hat = v / (1 - beta2 ** i)\n",
    "\n",
    "    update = learning_rate * m_hat / (np.sqrt(v_hat) + epsilon)\n",
    "\n",
    "    return update, m, v"
   ],
   "metadata": {
    "collapsed": false
   }
  },
  {
   "cell_type": "code",
   "execution_count": 625,
   "outputs": [],
   "source": [
    "# if the order is exactly the same as the desired order, then valid otherwise not.\n",
    "def is_valid_order(bag, preferred_order):\n",
    "    strengths = np.array([bag.arguments[name].strength for name in preferred_order])\n",
    "    return np.all(strengths[:-1] >= strengths[1:])"
   ],
   "metadata": {
    "collapsed": false
   }
  },
  {
   "cell_type": "code",
   "execution_count": 626,
   "outputs": [],
   "source": [
    "# compute kendall and spearman correlations. if decreasing then 1, increasing 0.\n",
    "def compute_kendall_spearman(predicted_strengths):\n",
    "    if len(set(predicted_strengths)) == 1:\n",
    "        return 1.0, 1.0\n",
    "\n",
    "    ideal_descending = sorted(predicted_strengths, reverse=True)\n",
    "    kendall_corr, _ = kendalltau(ideal_descending, predicted_strengths)\n",
    "    spearman_corr, _ = spearmanr(ideal_descending, predicted_strengths)\n",
    "\n",
    "    return kendall_corr, spearman_corr"
   ],
   "metadata": {
    "collapsed": false
   }
  },
  {
   "cell_type": "code",
   "execution_count": 627,
   "outputs": [],
   "source": [
    "# DF-QuAD gradual semantics\n",
    "agg_f = grad.semantics.modular.ProductAggregation()\n",
    "inf_f = grad.semantics.modular.LinearInfluence(conservativeness=1)\n",
    "\n",
    "layer_sizes = [8,64,16,8,3]\n",
    "N = 130\n",
    "h = 10e-6\n",
    "preferred_order = get_layer_nodes(layer_sizes, len(layer_sizes)-1)\n",
    "input_args, hidden_args, output_args = get_layer_args(layer_sizes)\n",
    "L1 = get_layer_nodes(layer_sizes, len(layer_sizes)-2) # last hidden layer"
   ],
   "metadata": {
    "collapsed": false
   }
  },
  {
   "cell_type": "code",
   "execution_count": 628,
   "outputs": [],
   "source": [
    "# # Bespoke:\n",
    "immutable_args = L1\n",
    "\n",
    "# #  input mutable\n",
    "# immutable_args = hidden_args + output_args\n",
    "\n",
    "# # hidden mutable\n",
    "# immutable_args = input_args + output_args\n",
    "\n",
    "# # input + hidden mutable\n",
    "# immutable_args = output_args\n",
    "\n",
    "# # all mutable\n",
    "# immutable_args = []"
   ],
   "metadata": {
    "collapsed": false
   }
  },
  {
   "cell_type": "code",
   "execution_count": 629,
   "outputs": [
    {
     "name": "stderr",
     "output_type": "stream",
     "text": [
      "100%|██████████| 130/130 [00:44<00:00,  2.94it/s]"
     ]
    },
    {
     "name": "stdout",
     "output_type": "stream",
     "text": [
      "valid_itself:30\n",
      "valid_avg:1.0\n",
      "kendall_avg:1.0\n",
      "spearman_avg:1.0\n",
      "runtime_avg:0.41653446197509764\n",
      "base_score_diff_avg:0.006771756286176065\n"
     ]
    },
    {
     "name": "stderr",
     "output_type": "stream",
     "text": [
      "\n"
     ]
    }
   ],
   "source": [
    "# compute desired orderings for N MLP-like QBAFs\n",
    "valid, kendall, spearman, time_total, base_score_diff = ([0] * N for _ in range(5))\n",
    "mutable_num = sum(layer_sizes)-len(immutable_args) # number of mutable arguments\n",
    "valid_itself = 0\n",
    "\n",
    "for i in tqdm(range(N)):\n",
    "\n",
    "    filename = f'../../bags/mlp_{i}.bag'\n",
    "    bag = grad.BAG(filename)\n",
    "    if is_valid_order(bag, preferred_order):\n",
    "        valid_itself += 1\n",
    "        valid[i] = 1\n",
    "        kendall[i], spearman[i] = 1, 1\n",
    "        continue\n",
    "\n",
    "    start_time = time.time()\n",
    "    m = {}\n",
    "    v = {}\n",
    "    original_base_scores = {arg.name: arg.initial_weight for arg in bag.arguments.values()}\n",
    "\n",
    "    for iteration in range(1, 101):\n",
    "\n",
    "        # compute gradient for all arguments\n",
    "        gradient = compute_gradient(10e-6, bag, preferred_order)\n",
    "        if all(value == 0 for value in gradient.values()): break\n",
    "\n",
    "        # update Adam state and update base scores\n",
    "        for arg in bag.arguments.values():\n",
    "            if arg.name not in immutable_args:\n",
    "                if arg.name not in m:\n",
    "                    m[arg.name] = 0\n",
    "                    v[arg.name] = 0\n",
    "\n",
    "                current_weight = arg.get_initial_weight()\n",
    "                adam_update, m[arg.name], v[arg.name] = adam_gradient(arg.name, gradient, m[arg.name], v[arg.name], iteration)\n",
    "                new_weight = current_weight - adam_update\n",
    "                new_weight = max(0, min(1, new_weight))\n",
    "                arg.reset_initial_weight(new_weight)\n",
    "\n",
    "        # recompute the strength and penalty\n",
    "        grad.algorithms.computeStrengthValues(bag, agg_f, inf_f)\n",
    "\n",
    "        if is_valid_order(bag, preferred_order):\n",
    "            break\n",
    "\n",
    "\n",
    "\n",
    "    if is_valid_order(bag, preferred_order):\n",
    "        valid[i] = 1\n",
    "        diff = 0\n",
    "        for arg in bag.arguments.values():\n",
    "            diff += abs(arg.initial_weight - original_base_scores[arg.name])\n",
    "        if mutable_num:\n",
    "            base_score_diff[i] = diff/mutable_num\n",
    "    predicted_strengths = [bag.arguments[name].strength for name in preferred_order]\n",
    "    kendall[i], spearman[i] = compute_kendall_spearman(predicted_strengths)\n",
    "    time_total[i] = time.time()-start_time\n",
    "\n",
    "print(f\"valid_itself:{valid_itself}\")\n",
    "print(f\"valid_avg:{(sum(valid)-valid_itself)/(N-valid_itself)}\")\n",
    "print(f\"kendall_avg:{(sum(kendall)-valid_itself)/(N-valid_itself)}\")\n",
    "print(f\"spearman_avg:{(sum(spearman)-valid_itself)/(N-valid_itself)}\")\n",
    "print(f\"runtime_avg:{sum(time_total)/(N-valid_itself)}\")\n",
    "print(f\"base_score_diff_avg:{sum(base_score_diff)/(sum(valid)-valid_itself)}\")"
   ],
   "metadata": {
    "collapsed": false,
    "pycharm": {
     "name": "#%%\n"
    }
   }
  }
 ],
 "metadata": {
  "kernelspec": {
   "display_name": "Python 3",
   "language": "python",
   "name": "python3"
  },
  "language_info": {
   "codemirror_mode": {
    "name": "ipython",
    "version": 2
   },
   "file_extension": ".py",
   "mimetype": "text/x-python",
   "name": "python",
   "nbconvert_exporter": "python",
   "pygments_lexer": "ipython2",
   "version": "2.7.6"
  }
 },
 "nbformat": 4,
 "nbformat_minor": 0
}